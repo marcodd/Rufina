{
 "cells": [
  {
   "cell_type": "code",
   "execution_count": 15,
   "metadata": {
    "collapsed": true
   },
   "outputs": [],
   "source": [
    "import pandas as pd\n",
    "import matplotlib.pyplot as plt\n",
    "\n",
    "%matplotlib inline"
   ]
  },
  {
   "cell_type": "code",
   "execution_count": 43,
   "metadata": {
    "collapsed": false
   },
   "outputs": [
    {
     "data": {
      "text/html": [
       "<div>\n",
       "<table border=\"1\" class=\"dataframe\">\n",
       "  <thead>\n",
       "    <tr style=\"text-align: right;\">\n",
       "      <th></th>\n",
       "      <th>Maschi</th>\n",
       "      <th>Femmine</th>\n",
       "      <th>Totale</th>\n",
       "      <th>% 0-14</th>\n",
       "      <th>% 15-64</th>\n",
       "      <th>% 65+</th>\n",
       "      <th>Stranieri</th>\n",
       "      <th>Quota stranieri (%)</th>\n",
       "      <th>Saldo Naturale</th>\n",
       "      <th>Saldo Migratorio</th>\n",
       "      <th>Saldo totale</th>\n",
       "    </tr>\n",
       "    <tr>\n",
       "      <th>Anno</th>\n",
       "      <th></th>\n",
       "      <th></th>\n",
       "      <th></th>\n",
       "      <th></th>\n",
       "      <th></th>\n",
       "      <th></th>\n",
       "      <th></th>\n",
       "      <th></th>\n",
       "      <th></th>\n",
       "      <th></th>\n",
       "      <th></th>\n",
       "    </tr>\n",
       "  </thead>\n",
       "  <tbody>\n",
       "    <tr>\n",
       "      <th>1991</th>\n",
       "      <td>2.851</td>\n",
       "      <td>3.071</td>\n",
       "      <td>5.922</td>\n",
       "      <td>NaN</td>\n",
       "      <td>NaN</td>\n",
       "      <td>NaN</td>\n",
       "      <td>NaN</td>\n",
       "      <td>NaN</td>\n",
       "      <td>NaN</td>\n",
       "      <td>NaN</td>\n",
       "      <td>NaN</td>\n",
       "    </tr>\n",
       "    <tr>\n",
       "      <th>2001</th>\n",
       "      <td>3.343</td>\n",
       "      <td>3.350</td>\n",
       "      <td>6.693</td>\n",
       "      <td>NaN</td>\n",
       "      <td>NaN</td>\n",
       "      <td>NaN</td>\n",
       "      <td>NaN</td>\n",
       "      <td>NaN</td>\n",
       "      <td>NaN</td>\n",
       "      <td>NaN</td>\n",
       "      <td>NaN</td>\n",
       "    </tr>\n",
       "    <tr>\n",
       "      <th>2011</th>\n",
       "      <td>3.627</td>\n",
       "      <td>3.745</td>\n",
       "      <td>7.372</td>\n",
       "      <td>13,6</td>\n",
       "      <td>64,3</td>\n",
       "      <td>22,1</td>\n",
       "      <td>431.0</td>\n",
       "      <td>5,8</td>\n",
       "      <td>-6.0</td>\n",
       "      <td>9.0</td>\n",
       "      <td>3.0</td>\n",
       "    </tr>\n",
       "    <tr>\n",
       "      <th>2012</th>\n",
       "      <td>3.644</td>\n",
       "      <td>3.771</td>\n",
       "      <td>7.415</td>\n",
       "      <td>13,5</td>\n",
       "      <td>63,7</td>\n",
       "      <td>22,8</td>\n",
       "      <td>465.0</td>\n",
       "      <td>6,3</td>\n",
       "      <td>-20.0</td>\n",
       "      <td>63.0</td>\n",
       "      <td>43.0</td>\n",
       "    </tr>\n",
       "    <tr>\n",
       "      <th>2013</th>\n",
       "      <td>3.664</td>\n",
       "      <td>3.805</td>\n",
       "      <td>7.469</td>\n",
       "      <td>13,3</td>\n",
       "      <td>63,0</td>\n",
       "      <td>23,7</td>\n",
       "      <td>508.0</td>\n",
       "      <td>6,8</td>\n",
       "      <td>-7.0</td>\n",
       "      <td>61.0</td>\n",
       "      <td>54.0</td>\n",
       "    </tr>\n",
       "    <tr>\n",
       "      <th>2014</th>\n",
       "      <td>3.634</td>\n",
       "      <td>3.793</td>\n",
       "      <td>7.427</td>\n",
       "      <td>13,0</td>\n",
       "      <td>62,5</td>\n",
       "      <td>24,5</td>\n",
       "      <td>515.0</td>\n",
       "      <td>6,9</td>\n",
       "      <td>-33.0</td>\n",
       "      <td>-9.0</td>\n",
       "      <td>-42.0</td>\n",
       "    </tr>\n",
       "  </tbody>\n",
       "</table>\n",
       "</div>"
      ],
      "text/plain": [
       "      Maschi  Femmine   Totale % 0-14 % 15-64 % 65+  Stranieri  \\\n",
       "Anno                                                             \n",
       "1991   2.851     3.071   5.922    NaN     NaN   NaN        NaN   \n",
       "2001   3.343     3.350   6.693    NaN     NaN   NaN        NaN   \n",
       "2011   3.627     3.745   7.372   13,6    64,3  22,1      431.0   \n",
       "2012   3.644     3.771   7.415   13,5    63,7  22,8      465.0   \n",
       "2013   3.664     3.805   7.469   13,3    63,0  23,7      508.0   \n",
       "2014   3.634     3.793   7.427   13,0    62,5  24,5      515.0   \n",
       "\n",
       "     Quota stranieri (%)  Saldo Naturale  Saldo Migratorio  Saldo totale  \n",
       "Anno                                                                      \n",
       "1991                 NaN             NaN               NaN           NaN  \n",
       "2001                 NaN             NaN               NaN           NaN  \n",
       "2011                 5,8            -6.0               9.0           3.0  \n",
       "2012                 6,3           -20.0              63.0          43.0  \n",
       "2013                 6,8            -7.0              61.0          54.0  \n",
       "2014                 6,9           -33.0              -9.0         -42.0  "
      ]
     },
     "execution_count": 43,
     "metadata": {},
     "output_type": "execute_result"
    }
   ],
   "source": [
    "## Serie storica popolazione residente a Rufina (anni 1991,2001,2011,2012,2013,2014) e Bilancio demografico\n",
    "df = pd.read_csv (r'/Users/marcodugini/Desktop/Rufina/Rufina pop residente.csv', index_col=\"Anno\")\n",
    "df"
   ]
  },
  {
   "cell_type": "code",
   "execution_count": 49,
   "metadata": {
    "collapsed": false
   },
   "outputs": [
    {
     "data": {
      "text/html": [
       "<div>\n",
       "<table border=\"1\" class=\"dataframe\">\n",
       "  <thead>\n",
       "    <tr style=\"text-align: right;\">\n",
       "      <th></th>\n",
       "      <th>Totale</th>\n",
       "      <th>Saldo totale</th>\n",
       "    </tr>\n",
       "    <tr>\n",
       "      <th>Anno</th>\n",
       "      <th></th>\n",
       "      <th></th>\n",
       "    </tr>\n",
       "  </thead>\n",
       "  <tbody>\n",
       "    <tr>\n",
       "      <th>1991</th>\n",
       "      <td>5.922</td>\n",
       "      <td>NaN</td>\n",
       "    </tr>\n",
       "    <tr>\n",
       "      <th>2001</th>\n",
       "      <td>6.693</td>\n",
       "      <td>NaN</td>\n",
       "    </tr>\n",
       "    <tr>\n",
       "      <th>2011</th>\n",
       "      <td>7.372</td>\n",
       "      <td>3.0</td>\n",
       "    </tr>\n",
       "    <tr>\n",
       "      <th>2012</th>\n",
       "      <td>7.415</td>\n",
       "      <td>43.0</td>\n",
       "    </tr>\n",
       "    <tr>\n",
       "      <th>2013</th>\n",
       "      <td>7.469</td>\n",
       "      <td>54.0</td>\n",
       "    </tr>\n",
       "    <tr>\n",
       "      <th>2014</th>\n",
       "      <td>7.427</td>\n",
       "      <td>-42.0</td>\n",
       "    </tr>\n",
       "  </tbody>\n",
       "</table>\n",
       "</div>"
      ],
      "text/plain": [
       "      Totale  Saldo totale\n",
       "Anno                      \n",
       "1991   5.922           NaN\n",
       "2001   6.693           NaN\n",
       "2011   7.372           3.0\n",
       "2012   7.415          43.0\n",
       "2013   7.469          54.0\n",
       "2014   7.427         -42.0"
      ]
     },
     "execution_count": 49,
     "metadata": {},
     "output_type": "execute_result"
    }
   ],
   "source": [
    "Popolazione = df[[ \"Totale\", \"Saldo totale\"]]\n",
    "Popolazione"
   ]
  },
  {
   "cell_type": "code",
   "execution_count": 17,
   "metadata": {
    "collapsed": true
   },
   "outputs": [],
   "source": [
    "## Andamento popolazione residente totale 1991-2014"
   ]
  },
  {
   "cell_type": "code",
   "execution_count": 63,
   "metadata": {
    "collapsed": false
   },
   "outputs": [
    {
     "data": {
      "text/plain": [
       "<matplotlib.axes._subplots.AxesSubplot at 0x116779c50>"
      ]
     },
     "execution_count": 63,
     "metadata": {},
     "output_type": "execute_result"
    },
    {
     "data": {
      "image/png": "[encoded data removed]",
      "text/plain": [
       "<matplotlib.figure.Figure at 0x115c2e510>"
      ]
     },
     "metadata": {},
     "output_type": "display_data"
    }
   ],
   "source": [
    "plt.xlabel('Anno')\n",
    "df[\"Totale\"].plot() "
   ]
  },
  {
   "cell_type": "code",
   "execution_count": 61,
   "metadata": {
    "collapsed": true
   },
   "outputs": [],
   "source": [
    "## Bilancio demografico. Saldo Naturale  2011-2014. "
   ]
  },
  {
   "cell_type": "code",
   "execution_count": 54,
   "metadata": {
    "collapsed": false
   },
   "outputs": [
    {
     "data": {
      "text/plain": [
       "<matplotlib.axes._subplots.AxesSubplot at 0x115a25250>"
      ]
     },
     "execution_count": 54,
     "metadata": {},
     "output_type": "execute_result"
    },
    {
     "data": {
      "image/png": "[encoded data removed]",
      "text/plain": [
       "<matplotlib.figure.Figure at 0x115f84990>"
      ]
     },
     "metadata": {},
     "output_type": "display_data"
    }
   ],
   "source": [
    "df[\"Saldo Naturale\"].plot()\n"
   ]
  },
  {
   "cell_type": "code",
   "execution_count": 55,
   "metadata": {
    "collapsed": false
   },
   "outputs": [
    {
     "data": {
      "text/plain": [
       "<matplotlib.axes._subplots.AxesSubplot at 0x11621bed0>"
      ]
     },
     "execution_count": 55,
     "metadata": {},
     "output_type": "execute_result"
    },
    {
     "data": {
      "image/png": "[encoded data removed]",
      "text/plain": [
       "<matplotlib.figure.Figure at 0x11675fa10>"
      ]
     },
     "metadata": {},
     "output_type": "display_data"
    }
   ],
   "source": [
    "df[\"Saldo Migratorio\"].plot()"
   ]
  },
  {
   "cell_type": "code",
   "execution_count": null,
   "metadata": {
    "collapsed": true
   },
   "outputs": [],
   "source": []
  }
 ],
 "metadata": {
  "kernelspec": {
   "display_name": "Python 2",
   "language": "python",
   "name": "python2"
  },
  "language_info": {
   "codemirror_mode": {
    "name": "ipython",
    "version": 2
   },
   "file_extension": ".py",
   "mimetype": "text/x-python",
   "name": "python",
   "nbconvert_exporter": "python",
   "pygments_lexer": "ipython2",
   "version": "2.7.11"
  }
 },
 "nbformat": 4,
 "nbformat_minor": 0
}
